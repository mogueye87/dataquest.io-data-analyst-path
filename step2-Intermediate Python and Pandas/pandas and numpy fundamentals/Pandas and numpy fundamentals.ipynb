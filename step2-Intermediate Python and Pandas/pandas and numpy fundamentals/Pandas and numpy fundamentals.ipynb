{
 "cells": [
  {
   "cell_type": "markdown",
   "metadata": {},
   "source": [
    "# Pandas and numpy fundamentals"
   ]
  },
  {
   "cell_type": "markdown",
   "metadata": {},
   "source": [
    "## Introduction to numpy\n",
    "Numpy is a python library that allow to analyze large datasets, the python built-in array, list is limited to small datasets. For more large datasets, numpy will be used for data analysis and processing.\n",
    "\n",
    "**SIMD**: processor features is used by that numpy for a more effective data analyze, vetorization.\n",
    "We will work with a subset of New York City's taxi trip dataset released between january and june 2016 by the city of New York. The dataset contains the following informations:\n",
    "- pickup_year - The year of the trip.\n",
    "- pickup_month - The month of the trip (January is 1, December is 12).\n",
    "- pickup_day - The day of the month of the trip.\n",
    "- pickup_location_code - The airport or borough where the trip started.\n",
    "- dropoff_location_code - The airport or borough where the trip finished, using the same eight category codes as pickup_location_code.\n",
    "- trip_distance - The distance of the trip in miles.\n",
    "- trip_length - The length of the trip in seconds.\n",
    "- fare_amount - The base fare of the trip, in dollars.\n",
    "- total_amount - The total amount charged to the passenger, including all fees, tolls and tips."
   ]
  },
  {
   "cell_type": "code",
   "execution_count": 3,
   "metadata": {},
   "outputs": [
    {
     "name": "stdout",
     "output_type": "stream",
     "text": [
      "[['2016', '1', '1', '5', '0', '2', '4', '21.00', '2037', '52.00', '0.80', '5.54', '11.65', '69.99', '1'], ['2016', '1', '1', '5', '0', '2', '1', '16.29', '1520', '45.00', '1.30', '0.00', '8.00', '54.30', '1'], ['2016', '1', '1', '5', '0', '2', '6', '12.70', '1462', '36.50', '1.30', '0.00', '0.00', '37.80', '2'], ['2016', '1', '1', '5', '0', '2', '6', '8.70', '1210', '26.00', '1.30', '0.00', '5.46', '32.76', '1'], ['2016', '1', '1', '5', '0', '2', '6', '5.56', '759', '17.50', '1.30', '0.00', '0.00', '18.80', '2']]\n"
     ]
    }
   ],
   "source": [
    "# use of the csv module to convert the dataset in a list of list and then convert it into a 2D-array with numpy array contructor\n",
    "from csv import reader\n",
    "import numpy as np\n",
    "with open(\"nyc_taxis.csv\") as open_file:\n",
    "    read_file = reader(open_file)\n",
    "    taxi_trip_lists = list(read_file)\n",
    "    # the header of the dataset\n",
    "    taxi_trip_lists_header = taxi_trip_lists[0]\n",
    "    # remove the header\n",
    "    taxi_trip_lists = taxi_trip_lists[1:]\n",
    "    print(taxi_trip_lists[:5])"
   ]
  },
  {
   "cell_type": "code",
   "execution_count": 4,
   "metadata": {},
   "outputs": [
    {
     "name": "stdout",
     "output_type": "stream",
     "text": [
      "[[2016.0, 1.0, 1.0, 5.0, 0.0, 2.0, 4.0, 21.0, 2037.0, 52.0, 0.8, 5.54, 11.65, 69.99, 1.0], [2016.0, 1.0, 1.0, 5.0, 0.0, 2.0, 1.0, 16.29, 1520.0, 45.0, 1.3, 0.0, 8.0, 54.3, 1.0], [2016.0, 1.0, 1.0, 5.0, 0.0, 2.0, 6.0, 12.7, 1462.0, 36.5, 1.3, 0.0, 0.0, 37.8, 2.0], [2016.0, 1.0, 1.0, 5.0, 0.0, 2.0, 6.0, 8.7, 1210.0, 26.0, 1.3, 0.0, 5.46, 32.76, 1.0], [2016.0, 1.0, 1.0, 5.0, 0.0, 2.0, 6.0, 5.56, 759.0, 17.5, 1.3, 0.0, 0.0, 18.8, 2.0]]\n"
     ]
    }
   ],
   "source": [
    "# convert the data points in to floating points number\n",
    "converted_taxi_data = []\n",
    "for row in taxi_trip_lists:\n",
    "    converted_taxi_row = []\n",
    "    for item in row:\n",
    "        item = float(item)\n",
    "        converted_taxi_row.append(item)\n",
    "    converted_taxi_data.append(converted_taxi_row)\n",
    "print(converted_taxi_data[:5])"
   ]
  },
  {
   "cell_type": "code",
   "execution_count": 5,
   "metadata": {},
   "outputs": [
    {
     "name": "stdout",
     "output_type": "stream",
     "text": [
      "[[2.016e+03 1.000e+00 1.000e+00 5.000e+00 0.000e+00 2.000e+00 4.000e+00\n",
      "  2.100e+01 2.037e+03 5.200e+01 8.000e-01 5.540e+00 1.165e+01 6.999e+01\n",
      "  1.000e+00]\n",
      " [2.016e+03 1.000e+00 1.000e+00 5.000e+00 0.000e+00 2.000e+00 1.000e+00\n",
      "  1.629e+01 1.520e+03 4.500e+01 1.300e+00 0.000e+00 8.000e+00 5.430e+01\n",
      "  1.000e+00]\n",
      " [2.016e+03 1.000e+00 1.000e+00 5.000e+00 0.000e+00 2.000e+00 6.000e+00\n",
      "  1.270e+01 1.462e+03 3.650e+01 1.300e+00 0.000e+00 0.000e+00 3.780e+01\n",
      "  2.000e+00]\n",
      " [2.016e+03 1.000e+00 1.000e+00 5.000e+00 0.000e+00 2.000e+00 6.000e+00\n",
      "  8.700e+00 1.210e+03 2.600e+01 1.300e+00 0.000e+00 5.460e+00 3.276e+01\n",
      "  1.000e+00]\n",
      " [2.016e+03 1.000e+00 1.000e+00 5.000e+00 0.000e+00 2.000e+00 6.000e+00\n",
      "  5.560e+00 7.590e+02 1.750e+01 1.300e+00 0.000e+00 0.000e+00 1.880e+01\n",
      "  2.000e+00]]\n"
     ]
    }
   ],
   "source": [
    "taxi = np.array(converted_taxi_data)\n",
    "print(taxi[:5])"
   ]
  },
  {
   "cell_type": "code",
   "execution_count": 6,
   "metadata": {},
   "outputs": [
    {
     "name": "stdout",
     "output_type": "stream",
     "text": [
      "<class 'numpy.ndarray'>\n"
     ]
    }
   ],
   "source": [
    "print(type(taxi))"
   ]
  },
  {
   "cell_type": "code",
   "execution_count": 7,
   "metadata": {},
   "outputs": [
    {
     "data": {
      "text/plain": [
       "1.0"
      ]
     },
     "execution_count": 7,
     "metadata": {},
     "output_type": "execute_result"
    }
   ],
   "source": [
    "# selecting a row nd_array = [row, column]\n",
    "taxi[0, 1]"
   ]
  },
  {
   "cell_type": "code",
   "execution_count": 8,
   "metadata": {},
   "outputs": [
    {
     "data": {
      "text/plain": [
       "array([[4.000e+00, 2.100e+01, 2.037e+03, 5.200e+01, 8.000e-01, 5.540e+00,\n",
       "        1.165e+01, 6.999e+01, 1.000e+00],\n",
       "       [1.000e+00, 1.629e+01, 1.520e+03, 4.500e+01, 1.300e+00, 0.000e+00,\n",
       "        8.000e+00, 5.430e+01, 1.000e+00],\n",
       "       [6.000e+00, 1.270e+01, 1.462e+03, 3.650e+01, 1.300e+00, 0.000e+00,\n",
       "        0.000e+00, 3.780e+01, 2.000e+00],\n",
       "       [6.000e+00, 8.700e+00, 1.210e+03, 2.600e+01, 1.300e+00, 0.000e+00,\n",
       "        5.460e+00, 3.276e+01, 1.000e+00],\n",
       "       [6.000e+00, 5.560e+00, 7.590e+02, 1.750e+01, 1.300e+00, 0.000e+00,\n",
       "        0.000e+00, 1.880e+01, 2.000e+00]])"
      ]
     },
     "execution_count": 8,
     "metadata": {},
     "output_type": "execute_result"
    }
   ],
   "source": [
    "# slicing taxi ndarray\n",
    "taxi[:5, 6:]"
   ]
  },
  {
   "cell_type": "code",
   "execution_count": 9,
   "metadata": {},
   "outputs": [
    {
     "name": "stdout",
     "output_type": "stream",
     "text": [
      "[2016. 2016. 2016. 2016.]\n"
     ]
    }
   ],
   "source": [
    "# gives the value of the 4th first rows\n",
    "print(taxi[[0,1,3,4],0])"
   ]
  },
  {
   "cell_type": "markdown",
   "metadata": {},
   "source": [
    "- From the taxi ndarray:\n",
    "  - Select the row at index 0 and assign it to row_0.\n",
    "  - Select every column for the rows at indexes 391 to 500 inclusive and assign them to rows_391_to_500.\n",
    "  - Select the item at row index 21 and column index 5 and assign it to row_21_column_5"
   ]
  },
  {
   "cell_type": "code",
   "execution_count": 10,
   "metadata": {},
   "outputs": [
    {
     "name": "stdout",
     "output_type": "stream",
     "text": [
      "[2.016e+03 1.000e+00 1.000e+00 5.000e+00 0.000e+00 2.000e+00 4.000e+00\n",
      " 2.100e+01 2.037e+03 5.200e+01 8.000e-01 5.540e+00 1.165e+01 6.999e+01\n",
      " 1.000e+00]\n"
     ]
    }
   ],
   "source": [
    "row_0 = taxi[0]\n",
    "print(row_0)"
   ]
  },
  {
   "cell_type": "code",
   "execution_count": 11,
   "metadata": {},
   "outputs": [
    {
     "name": "stdout",
     "output_type": "stream",
     "text": [
      "[[2.016e+03 1.000e+00 2.000e+00 6.000e+00 1.000e+00 4.000e+00 3.000e+00\n",
      "  8.300e+00 1.081e+03 2.500e+01 1.300e+00 0.000e+00 0.000e+00 2.630e+01\n",
      "  2.000e+00]\n",
      " [2.016e+03 1.000e+00 2.000e+00 6.000e+00 1.000e+00 4.000e+00 3.000e+00\n",
      "  8.900e+00 1.114e+03 2.600e+01 1.300e+00 0.000e+00 3.000e+00 3.030e+01\n",
      "  1.000e+00]\n",
      " [2.016e+03 1.000e+00 2.000e+00 6.000e+00 1.000e+00 4.000e+00 3.000e+00\n",
      "  9.190e+00 9.930e+02 2.650e+01 1.300e+00 5.540e+00 6.670e+00 4.001e+01\n",
      "  1.000e+00]\n",
      " [2.016e+03 1.000e+00 2.000e+00 6.000e+00 1.000e+00 4.000e+00 2.000e+00\n",
      "  1.802e+01 1.654e+03 5.200e+01 8.000e-01 5.540e+00 1.167e+01 7.001e+01\n",
      "  1.000e+00]\n",
      " [2.016e+03 1.000e+00 2.000e+00 6.000e+00 1.000e+00 4.000e+00 2.000e+00\n",
      "  1.835e+01 1.765e+03 5.200e+01 8.000e-01 0.000e+00 0.000e+00 5.280e+01\n",
      "  2.000e+00]]\n"
     ]
    }
   ],
   "source": [
    "rows_391_to_500 = taxi[391:501]\n",
    "print(rows_391_to_500[:5])"
   ]
  },
  {
   "cell_type": "code",
   "execution_count": 12,
   "metadata": {},
   "outputs": [
    {
     "name": "stdout",
     "output_type": "stream",
     "text": [
      "4.0\n"
     ]
    }
   ],
   "source": [
    "row_21_column_5 = taxi[21, 5]\n",
    "print(row_21_column_5)"
   ]
  },
  {
   "cell_type": "markdown",
   "metadata": {},
   "source": [
    "## Vectorization\n",
    "For vectorization, we first convert a list of list into ndarray, then select each columns and finally applied and operations on thoses columns"
   ]
  },
  {
   "cell_type": "markdown",
   "metadata": {},
   "source": [
    "## Reading file with numpy\n",
    "In the foregoing chapter we have used python built-in module csv to read file and then call the reader definitions to read the file and the function list to convert the read data into a list of list.\n",
    "In this section, we will take the advantages of the numpy vectorization to process quickly operations and genfromtxt function to convert a text into ndarray "
   ]
  },
  {
   "cell_type": "code",
   "execution_count": 13,
   "metadata": {},
   "outputs": [],
   "source": [
    "import numpy as np"
   ]
  },
  {
   "cell_type": "code",
   "execution_count": 14,
   "metadata": {},
   "outputs": [
    {
     "name": "stdout",
     "output_type": "stream",
     "text": [
      "[[2.016e+03 1.000e+00 1.000e+00 5.000e+00 0.000e+00 2.000e+00 4.000e+00\n",
      "  2.100e+01 2.037e+03 5.200e+01 8.000e-01 5.540e+00 1.165e+01 6.999e+01\n",
      "  1.000e+00]\n",
      " [2.016e+03 1.000e+00 1.000e+00 5.000e+00 0.000e+00 2.000e+00 1.000e+00\n",
      "  1.629e+01 1.520e+03 4.500e+01 1.300e+00 0.000e+00 8.000e+00 5.430e+01\n",
      "  1.000e+00]\n",
      " [2.016e+03 1.000e+00 1.000e+00 5.000e+00 0.000e+00 2.000e+00 6.000e+00\n",
      "  1.270e+01 1.462e+03 3.650e+01 1.300e+00 0.000e+00 0.000e+00 3.780e+01\n",
      "  2.000e+00]\n",
      " [2.016e+03 1.000e+00 1.000e+00 5.000e+00 0.000e+00 2.000e+00 6.000e+00\n",
      "  8.700e+00 1.210e+03 2.600e+01 1.300e+00 0.000e+00 5.460e+00 3.276e+01\n",
      "  1.000e+00]\n",
      " [2.016e+03 1.000e+00 1.000e+00 5.000e+00 0.000e+00 2.000e+00 6.000e+00\n",
      "  5.560e+00 7.590e+02 1.750e+01 1.300e+00 0.000e+00 0.000e+00 1.880e+01\n",
      "  2.000e+00]]\n"
     ]
    }
   ],
   "source": [
    "taxi = np.genfromtxt('nyc_taxis.csv', delimiter=',', skip_header=1);\n",
    "print(taxi[:5])\n"
   ]
  },
  {
   "cell_type": "code",
   "execution_count": 15,
   "metadata": {},
   "outputs": [
    {
     "name": "stdout",
     "output_type": "stream",
     "text": [
      "float64\n"
     ]
    }
   ],
   "source": [
    "print(taxi.dtype)"
   ]
  },
  {
   "cell_type": "markdown",
   "metadata": {},
   "source": [
    "## Boolean array and indexing\n",
    "Boolean array acts like filter and are passed to the ndarray"
   ]
  },
  {
   "cell_type": "code",
   "execution_count": 16,
   "metadata": {},
   "outputs": [],
   "source": [
    "a = np.array([1, 2, 3, 4, 5])\n",
    "b = np.array([\"blue\", \"blue\", \"red\", \"blue\"])\n",
    "c = np.array([80.0, 103.4, 96.9, 200.3])\n",
    "# use of vectorization to check whether an array is less than 3\n",
    "a_bool = a < 3\n",
    "\n",
    "# element in b == \"blue\"\n",
    "b_bool =  (b == \"blue\")\n",
    "\n",
    "# c > 100\n",
    "\n",
    "c_bool = c > 100"
   ]
  },
  {
   "cell_type": "markdown",
   "metadata": {},
   "source": [
    "## Boolean indexing with numpy 1ndarray\n",
    "- **shape** : function to access to the number of elements of a row, return a tuple (rowNum, colNum)\n",
    "- **Filter** : Boolean  return array act like a filter and is later passed to the ndarray\n"
   ]
  },
  {
   "cell_type": "code",
   "execution_count": 17,
   "metadata": {},
   "outputs": [
    {
     "name": "stdout",
     "output_type": "stream",
     "text": [
      "[1. 1. 1. ... 6. 6. 6.]\n"
     ]
    }
   ],
   "source": [
    "pickup_month = taxi[:, 1]\n",
    "print(pickup_month)"
   ]
  },
  {
   "cell_type": "code",
   "execution_count": 18,
   "metadata": {},
   "outputs": [
    {
     "name": "stdout",
     "output_type": "stream",
     "text": [
      "[ True  True  True ... False False False]\n",
      "[1. 1. 1. ... 1. 1. 1.]\n",
      "(13481,)\n",
      "13481\n"
     ]
    }
   ],
   "source": [
    "january_bool = pickup_month == 1\n",
    "print(january_bool)\n",
    "\n",
    "january = pickup_month[january_bool]\n",
    "print(january)\n",
    "\n",
    "january_rides = january.shape\n",
    "print(january_rides)\n",
    "print(january_rides[0])"
   ]
  },
  {
   "cell_type": "code",
   "execution_count": 19,
   "metadata": {},
   "outputs": [],
   "source": [
    "february_bool = pickup_month == 2\n",
    "february = pickup_month[february_bool]\n",
    "february_rides = february.shape[0] # return a tuple (row, col)"
   ]
  },
  {
   "cell_type": "markdown",
   "metadata": {},
   "source": [
    "## Boolean indexing with 2D ndarrays"
   ]
  },
  {
   "cell_type": "code",
   "execution_count": 20,
   "metadata": {},
   "outputs": [
    {
     "name": "stdout",
     "output_type": "stream",
     "text": [
      "[[4.0000e+00 2.0000e+00 2.1450e+01 2.0040e+03 5.2000e+01 8.0000e-01\n",
      "  0.0000e+00 5.2800e+01 1.0560e+02]\n",
      " [3.0000e+00 4.0000e+00 9.2000e+00 1.0410e+03 2.7000e+01 1.3000e+00\n",
      "  5.5400e+00 6.0000e+01 9.3840e+01]\n",
      " [2.0000e+00 0.0000e+00 1.9800e+01 1.6710e+03 5.2500e+01 1.3000e+00\n",
      "  5.5400e+00 5.9340e+01 1.1868e+02]\n",
      " [4.0000e+00 2.0000e+00 1.8420e+01 2.9680e+03 5.2000e+01 8.0000e-01\n",
      "  5.5400e+00 8.0000e+01 1.3834e+02]\n",
      " [3.0000e+00 6.0000e+00 4.9000e-01 1.5800e+02 3.5000e+00 1.8000e+00\n",
      "  0.0000e+00 7.0000e+01 7.5300e+01]\n",
      " [2.0000e+00 2.0000e+00 2.7000e+00 3.8100e+02 9.5000e+00 8.0000e-01\n",
      "  0.0000e+00 6.0000e+01 7.0300e+01]\n",
      " [3.0000e+00 4.0000e+00 9.5400e+00 1.2100e+03 2.7500e+01 8.0000e-01\n",
      "  5.5400e+00 5.5000e+01 8.8840e+01]\n",
      " [2.0000e+00 4.0000e+00 1.7600e+01 3.2510e+03 5.2000e+01 8.0000e-01\n",
      "  5.5400e+00 6.5000e+01 1.2334e+02]\n",
      " [4.0000e+00 2.0000e+00 3.8200e+01 9.2520e+03 5.2000e+01 8.0000e-01\n",
      "  5.5400e+00 8.0000e+01 1.3834e+02]\n",
      " [4.0000e+00 2.0000e+00 1.8000e+01 2.2760e+03 1.0000e-02 3.0000e-01\n",
      "  5.5400e+00 6.2000e+01 6.7850e+01]\n",
      " [2.0000e+00 0.0000e+00 2.6210e+01 1.7029e+04 1.8050e+02 8.0000e-01\n",
      "  5.5400e+00 1.0000e+02 2.8684e+02]\n",
      " [2.0000e+00 2.0000e+00 0.0000e+00 2.4000e+01 2.5000e+00 8.0000e-01\n",
      "  0.0000e+00 5.8000e+01 6.1300e+01]\n",
      " [2.0000e+00 1.0000e+00 1.8210e+01 3.1600e+03 5.5500e+01 8.0000e-01\n",
      "  0.0000e+00 6.2000e+01 1.1830e+02]\n",
      " [2.0000e+00 2.0000e+00 0.0000e+00 3.0000e+00 2.5000e+00 1.8000e+00\n",
      "  0.0000e+00 7.5700e+01 8.0000e+01]\n",
      " [2.0000e+00 4.0000e+00 1.8680e+01 5.2470e+03 5.2000e+01 8.0000e-01\n",
      "  5.5400e+00 6.0000e+01 1.1834e+02]\n",
      " [4.0000e+00 2.0000e+00 1.8170e+01 5.8600e+03 5.2000e+01 8.0000e-01\n",
      "  5.5400e+00 7.0000e+01 1.2834e+02]]\n"
     ]
    }
   ],
   "source": [
    "tip_amount = taxi[:,  12]\n",
    "\n",
    "# selecting tip_amount > 50$\n",
    "tip_bool = tip_amount > 50\n",
    "\n",
    "top_tips = taxi[tip_bool]\n",
    "top_tips = top_tips[:, 5:14]\n",
    "print(top_tips)"
   ]
  },
  {
   "cell_type": "markdown",
   "metadata": {},
   "source": [
    "## Values assignment to an ndarray"
   ]
  },
  {
   "cell_type": "code",
   "execution_count": 21,
   "metadata": {},
   "outputs": [
    {
     "name": "stdout",
     "output_type": "stream",
     "text": [
      "12.6674260830728\n"
     ]
    }
   ],
   "source": [
    "# this creates a copy of our taxi ndarray\n",
    "taxi_modified = taxi.copy()\n",
    "\n",
    "# get location of row = 28214\n",
    "taxi_modified[28214, 5] = 1\n",
    "\n",
    "taxi_modified[:, 0] = 16\n",
    "\n",
    "mean_value = taxi_modified[:, 7].mean(axis=0)\n",
    "print(mean_value)\n",
    "\n",
    "taxi_modified[1800:1802, 7] = mean_value"
   ]
  },
  {
   "cell_type": "markdown",
   "metadata": {},
   "source": [
    "## Values assignment with boolean arrays"
   ]
  },
  {
   "cell_type": "code",
   "execution_count": 22,
   "metadata": {},
   "outputs": [
    {
     "data": {
      "text/plain": [
       "array([1, 2, 3, 4, 5])"
      ]
     },
     "execution_count": 22,
     "metadata": {},
     "output_type": "execute_result"
    }
   ],
   "source": [
    "a = np.array([1, 2, 3, 4, 5])\n",
    "a "
   ]
  },
  {
   "cell_type": "code",
   "execution_count": 23,
   "metadata": {},
   "outputs": [
    {
     "data": {
      "text/plain": [
       "array([False, False,  True,  True,  True])"
      ]
     },
     "execution_count": 23,
     "metadata": {},
     "output_type": "execute_result"
    }
   ],
   "source": [
    "b = a > 2\n",
    "b "
   ]
  },
  {
   "cell_type": "code",
   "execution_count": 24,
   "metadata": {},
   "outputs": [],
   "source": [
    "a[b] = 0"
   ]
  },
  {
   "cell_type": "code",
   "execution_count": 25,
   "metadata": {},
   "outputs": [
    {
     "data": {
      "text/plain": [
       "array([1, 2, 0, 0, 0])"
      ]
     },
     "execution_count": 25,
     "metadata": {},
     "output_type": "execute_result"
    }
   ],
   "source": [
    "a"
   ]
  },
  {
   "cell_type": "code",
   "execution_count": 26,
   "metadata": {},
   "outputs": [
    {
     "name": "stdout",
     "output_type": "stream",
     "text": [
      "[[2.016e+03 1.000e+00 1.000e+00 ... 6.999e+01 1.000e+00 0.000e+00]\n",
      " [2.016e+03 1.000e+00 1.000e+00 ... 5.430e+01 1.000e+00 0.000e+00]\n",
      " [2.016e+03 1.000e+00 1.000e+00 ... 3.780e+01 2.000e+00 0.000e+00]\n",
      " ...\n",
      " [2.016e+03 6.000e+00 3.000e+01 ... 6.334e+01 1.000e+00 0.000e+00]\n",
      " [2.016e+03 6.000e+00 3.000e+01 ... 4.475e+01 1.000e+00 0.000e+00]\n",
      " [2.016e+03 6.000e+00 3.000e+01 ... 5.484e+01 2.000e+00 0.000e+00]]\n",
      "[ True  True  True ...  True  True  True]\n"
     ]
    }
   ],
   "source": [
    "# create a new column filled with `0`.\n",
    "zeros = np.zeros([taxi.shape[0], 1])\n",
    "taxi_modified = np.concatenate([taxi, zeros], axis=1)\n",
    "print(taxi_modified)\n",
    "\n",
    "# pickup_location_code = 'JFK Airport'  column = 15 => 1\n",
    "bool_aiport = taxi_modified[:,5] == 2\n",
    "print(bool_aiport)\n",
    "taxi_modified[bool_aiport, 15] = 1\n",
    "\n",
    "#array[array[:, column_for_comparison] == value_for_comparison,\n",
    "#column_for_assignment] = new_value\n",
    "taxi_modified[taxi_modified[:, 5] == 3, 15] = 1\n",
    "\n",
    "taxi_modified[taxi_modified[:, 5] == 5, 15] = 1"
   ]
  },
  {
   "cell_type": "markdown",
   "metadata": {},
   "source": [
    "## Most popular airport \n",
    "comparison of of the number of rides using the the shape function\n"
   ]
  },
  {
   "cell_type": "code",
   "execution_count": 27,
   "metadata": {},
   "outputs": [
    {
     "data": {
      "text/plain": [
       "array([[2.016e+03, 1.000e+00, 1.000e+00, ..., 6.999e+01, 1.000e+00,\n",
       "        1.000e+00],\n",
       "       [2.016e+03, 1.000e+00, 1.000e+00, ..., 5.430e+01, 1.000e+00,\n",
       "        1.000e+00],\n",
       "       [2.016e+03, 1.000e+00, 1.000e+00, ..., 3.780e+01, 2.000e+00,\n",
       "        1.000e+00],\n",
       "       ...,\n",
       "       [2.016e+03, 6.000e+00, 3.000e+01, ..., 6.334e+01, 1.000e+00,\n",
       "        1.000e+00],\n",
       "       [2.016e+03, 6.000e+00, 3.000e+01, ..., 4.475e+01, 1.000e+00,\n",
       "        1.000e+00],\n",
       "       [2.016e+03, 6.000e+00, 3.000e+01, ..., 5.484e+01, 2.000e+00,\n",
       "        1.000e+00]])"
      ]
     },
     "execution_count": 27,
     "metadata": {},
     "output_type": "execute_result"
    }
   ],
   "source": [
    "taxi_modified"
   ]
  },
  {
   "cell_type": "code",
   "execution_count": 28,
   "metadata": {},
   "outputs": [],
   "source": [
    "# Creation of filter for the 3 different airport\n",
    "bool_jfk = taxi_modified[:, 6] == 2 # JFK Airport\n",
    "bool_laguardia = taxi_modified[:, 6] == 3 # LaGuardia \n",
    "bool_newark = taxi_modified[:, 6] == 5 # Newark Airport"
   ]
  },
  {
   "cell_type": "code",
   "execution_count": 29,
   "metadata": {},
   "outputs": [
    {
     "name": "stdout",
     "output_type": "stream",
     "text": [
      "The number of rides for the JFK Airport is 11832\n"
     ]
    }
   ],
   "source": [
    "# passing the filter to the taxi_modified ndarrays\n",
    "jfk_rides = taxi_modified[bool_jfk].shape[0]\n",
    "message = \"The number of rides for the JFK Airport is {}\"\n",
    "output = message.format(jfk_rides)\n",
    "print(output)"
   ]
  },
  {
   "cell_type": "code",
   "execution_count": 30,
   "metadata": {},
   "outputs": [
    {
     "name": "stdout",
     "output_type": "stream",
     "text": [
      "The number of rides for the LaGuardia Airport is 16602\n"
     ]
    }
   ],
   "source": [
    "# passing the filter to the taxi_modified ndarrays\n",
    "laguardia_rides = taxi_modified[bool_laguardia].shape[0]\n",
    "message = \"The number of rides for the LaGuardia Airport is {}\"\n",
    "output = message.format(laguardia_rides)\n",
    "print(output)"
   ]
  },
  {
   "cell_type": "code",
   "execution_count": 31,
   "metadata": {},
   "outputs": [
    {
     "name": "stdout",
     "output_type": "stream",
     "text": [
      "The number of rides for the Newark Airport is 63\n"
     ]
    }
   ],
   "source": [
    "# passing the filter to the taxi_modified ndarrays\n",
    "newark_rides = taxi_modified[bool_newark].shape[0]\n",
    "message = \"The number of rides for the Newark Airport is {}\"\n",
    "output = message.format(newark_rides)\n",
    "print(output)"
   ]
  },
  {
   "cell_type": "markdown",
   "metadata": {},
   "source": [
    "### Conclusion\n",
    "The most popular airport is the LaGuardia with comptabilize the number of 16602 rides followed by the JFK Airport"
   ]
  },
  {
   "cell_type": "code",
   "execution_count": 32,
   "metadata": {},
   "outputs": [
    {
     "name": "stdout",
     "output_type": "stream",
     "text": [
      "[37.11340206 38.58157895 31.27222982 ... 22.29907867 42.41551247\n",
      " 36.90473407]\n",
      "(150, 15)\n"
     ]
    }
   ],
   "source": [
    "trip_mph = taxi[:,7] / (taxi[:,8] / 3600)\n",
    "print(trip_mph)\n",
    "trip_mph_bool = trip_mph > 100\n",
    "taxi_cleaned = taxi[trip_mph_bool]\n",
    "print(taxi_cleaned.shape)"
   ]
  },
  {
   "cell_type": "markdown",
   "metadata": {},
   "source": [
    "\n",
    "Learn\n",
    "\n",
    "Our calculations in the previous screen show that Laguardia is the most common airport for dropoffs in our data set.\n",
    "\n",
    "Our second and final challenge involves removing potentially bad data from our data set, and then calculating some descriptive statistics on the remaining 'clean' data.\n",
    "\n",
    "We'll start by using boolean indexing to remove any rows that have an average speed for the trip greater than 100 mph (160 kph) which should remove the questionable data we have worked with over the past two missions. Then, we'll use array methods to calculate the mean for specific columns of the remaining data. The columns we're interested in are:\n",
    "\n",
    "- trip_distance, at column index 7\n",
    "- trip_length, at column index 8\n",
    "- total_amount, at column index 13\n",
    "- trip_mph, not available as a column but as its own ndarray\n",
    "- Instructions\n",
    "\n",
    "### Instructions:\n",
    "\n",
    "The trip_mph ndarray has been provided for you.\n",
    "- Create a new ndarray, cleaned_taxi, containing only rows for which the values of trip_mph are less than 100.\n",
    "- Calculate the mean of the trip_distance column of cleaned_taxi, and assign the result to mean_distance.\n",
    "- Calculate the mean of the trip_length column of cleaned_taxi, and assign the result to mean_length.\n",
    "- Calculate the mean of the total_amount column of cleaned_taxi, and assign the result to mean_total_amount.\n",
    "- Calculate the mean of the trip_mph, excluding values greater than or equal to 100, and assign the result to mean_mph."
   ]
  },
  {
   "cell_type": "code",
   "execution_count": 33,
   "metadata": {},
   "outputs": [
    {
     "name": "stdout",
     "output_type": "stream",
     "text": [
      "The mean distance for a trip is 12.67\n",
      "The mean legth for a trip is 2,239.50\n",
      "The mean mean total amount for a trip is 48.98\n"
     ]
    }
   ],
   "source": [
    "trip_mph = taxi[:,7] / (taxi[:,8] / 3600)\n",
    "\n",
    "# Row where the trip_mph < 100\n",
    "trip_mph_bool = trip_mph <  100\n",
    "cleaned_taxi = taxi[trip_mph_bool]\n",
    "\n",
    "# Number of row of cleaned taxi\n",
    "cleaned_taxi_length = cleaned_taxi.shape[0]\n",
    "\n",
    "mean_distance = cleaned_taxi[:,7].mean(axis=0)\n",
    "print(\"The mean distance for a trip is {:.2f}\".format(mean_distance)) \n",
    "\n",
    "mean_length = cleaned_taxi[:,8].mean(axis=0)\n",
    "print(\"The mean legth for a trip is {:,.2f}\".format(mean_length))\n",
    "\n",
    "mean_total_amount = cleaned_taxi[:,13].mean(axis=0)\n",
    "print(\"The mean mean total amount for a trip is {:.2f}\".format(mean_total_amount))\n",
    "\n",
    "mean_mph = trip_mph[trip_mph < 100].mean(axis=0)                                "
   ]
  },
  {
   "cell_type": "code",
   "execution_count": 34,
   "metadata": {},
   "outputs": [
    {
     "name": "stdout",
     "output_type": "stream",
     "text": [
      "15/02/87\n"
     ]
    }
   ],
   "source": [
    "import datetime as dt\n",
    "date = dt.date(1987, 2, 15)\n",
    "date = date.strftime('%d/%m/%y')\n",
    "print(date)"
   ]
  },
  {
   "cell_type": "code",
   "execution_count": 35,
   "metadata": {},
   "outputs": [
    {
     "name": "stdout",
     "output_type": "stream",
     "text": [
      "float64\n"
     ]
    }
   ],
   "source": [
    "print(taxi.dtype)"
   ]
  },
  {
   "cell_type": "code",
   "execution_count": 2,
   "metadata": {},
   "outputs": [
    {
     "name": "stdout",
     "output_type": "stream",
     "text": [
      "None\n"
     ]
    }
   ],
   "source": [
    "def sum(a, b):\n",
    "    a = a + b\n",
    "print(sum(5, 4))"
   ]
  },
  {
   "cell_type": "code",
   "execution_count": 3,
   "metadata": {},
   "outputs": [
    {
     "ename": "SyntaxError",
     "evalue": "Missing parentheses in call to 'print'. Did you mean print(name + \"d\")? (<ipython-input-3-8396f12e7839>, line 2)",
     "output_type": "error",
     "traceback": [
      "\u001b[1;36m  File \u001b[1;32m\"<ipython-input-3-8396f12e7839>\"\u001b[1;36m, line \u001b[1;32m2\u001b[0m\n\u001b[1;33m    print name + \"d\"\u001b[0m\n\u001b[1;37m             ^\u001b[0m\n\u001b[1;31mSyntaxError\u001b[0m\u001b[1;31m:\u001b[0m Missing parentheses in call to 'print'. Did you mean print(name + \"d\")?\n"
     ]
    }
   ],
   "source": [
    "name = \"ahmed\"\n",
    "print name + \"d\""
   ]
  },
  {
   "cell_type": "code",
   "execution_count": 8,
   "metadata": {},
   "outputs": [
    {
     "name": "stdout",
     "output_type": "stream",
     "text": [
      "[[ 7  6  7]\n",
      " [ 8 14  7]]\n",
      "[[12 11 12]\n",
      " [13 19 12]]\n",
      "26\n",
      "200\n"
     ]
    }
   ],
   "source": [
    "import numpy as np\n",
    "a = np.array([[2,1,2], [3,9,2]])\n",
    "a +=5\n",
    "print(a)\n",
    "b = a + 5\n",
    "print(b)\n",
    "print(a[1, 2] + b[1,1])\n",
    "print(len([0, 1]*100))"
   ]
  },
  {
   "cell_type": "code",
   "execution_count": 11,
   "metadata": {},
   "outputs": [
    {
     "name": "stdout",
     "output_type": "stream",
     "text": [
      "72\n"
     ]
    }
   ],
   "source": [
    "import csv \n",
    "with open(\"worldcities.csv\", encoding=\"utf-8\") as open_file:\n",
    "    read_file = csv.reader(open_file)\n",
    "    data = list(read_file)\n",
    "    data = data[1:]\n",
    "    unique_country = list()\n",
    "    duplicate_country = list()\n",
    "    for row in data:\n",
    "        if row not in unique_country:\n",
    "            unique_country.append(row)\n",
    "        else:\n",
    "            duplicate_country.append(row)\n",
    "            \n",
    "print(len(duplicate_country))"
   ]
  },
  {
   "cell_type": "code",
   "execution_count": 12,
   "metadata": {},
   "outputs": [
    {
     "ename": "SyntaxError",
     "evalue": "Missing parentheses in call to 'print'. Did you mean print(a + b)? (<ipython-input-12-7a3de06f798b>, line 3)",
     "output_type": "error",
     "traceback": [
      "\u001b[1;36m  File \u001b[1;32m\"<ipython-input-12-7a3de06f798b>\"\u001b[1;36m, line \u001b[1;32m3\u001b[0m\n\u001b[1;33m    print a + b\u001b[0m\n\u001b[1;37m          ^\u001b[0m\n\u001b[1;31mSyntaxError\u001b[0m\u001b[1;31m:\u001b[0m Missing parentheses in call to 'print'. Did you mean print(a + b)?\n"
     ]
    }
   ],
   "source": [
    "a = 'Udacity'\n",
    "b = 5\n",
    "print a + b"
   ]
  },
  {
   "cell_type": "code",
   "execution_count": null,
   "metadata": {},
   "outputs": [],
   "source": []
  }
 ],
 "metadata": {
  "kernelspec": {
   "display_name": "Python 3",
   "language": "python",
   "name": "python3"
  },
  "language_info": {
   "codemirror_mode": {
    "name": "ipython",
    "version": 3
   },
   "file_extension": ".py",
   "mimetype": "text/x-python",
   "name": "python",
   "nbconvert_exporter": "python",
   "pygments_lexer": "ipython3",
   "version": "3.7.1"
  }
 },
 "nbformat": 4,
 "nbformat_minor": 2
}
